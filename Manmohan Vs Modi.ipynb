{
 "cells": [
  {
   "cell_type": "code",
   "execution_count": 3,
   "id": "6e3ca2cc-ba3d-434e-82a7-bcb929f28ca3",
   "metadata": {},
   "outputs": [
    {
     "name": "stdout",
     "output_type": "stream",
     "text": [
      "Full Date Range CAGR: 12.80%\n",
      "Full Date Range YoY Standard Deviation: 11.65%\n"
     ]
    }
   ],
   "source": [
    "import pandas as pd\n",
    "import numpy as np\n",
    "\n",
    "# Load the data\n",
    "file_path = r\"C:\\Users\\surve\\Downloads\\modi.csv\"\n",
    "data = pd.read_csv(file_path)\n",
    "\n",
    "# Clean column names by stripping any extra spaces\n",
    "data.columns = data.columns.str.strip()\n",
    "\n",
    "# Preprocess the data\n",
    "data[\"Date\"] = pd.to_datetime(data[\"Date\"], format=\"%d-%b-%y\")  # Parse dates\n",
    "data = data[[\"Date\", \"Close\"]]  # Keep only Date and Close columns\n",
    "data = data.sort_values(\"Date\")  # Ensure chronological order\n",
    "\n",
    "# Set the Date as index for resampling\n",
    "data.set_index(\"Date\", inplace=True)\n",
    "\n",
    "# Resample the data to get the closing value for each year\n",
    "data_yearly = data.resample('YE').last()  # Get the last close price for each year\n",
    "\n",
    "# Calculate the year-on-year returns\n",
    "data_yearly['YoY Return'] = data_yearly['Close'].pct_change() * 100  # Percentage change\n",
    "\n",
    "# Remove the first NaN value created by pct_change\n",
    "data_yearly = data_yearly.dropna(subset=['YoY Return'])\n",
    "\n",
    "# Compute the standard deviation of YoY returns\n",
    "std_dev_yoy = data_yearly['YoY Return'].std()\n",
    "\n",
    "# Compute CAGR for the entire period\n",
    "start_value = data['Close'].iloc[0]  # First day's close price\n",
    "end_value = data['Close'].iloc[-1]  # Last day's close price\n",
    "n_days = (data.index[-1] - data.index[0]).days  # Total number of days\n",
    "n_years = n_days / 365  # Convert days to years\n",
    "\n",
    "# CAGR formula\n",
    "cagr_full_period = (end_value / start_value) ** (1 / n_years) - 1\n",
    "\n",
    "# Results\n",
    "print(f\"Full Date Range CAGR: {cagr_full_period * 100:.2f}%\")\n",
    "print(f\"Full Date Range YoY Standard Deviation: {std_dev_yoy:.2f}%\")\n"
   ]
  },
  {
   "cell_type": "code",
   "execution_count": null,
   "id": "54396258-8bd4-4812-833a-6e812301688c",
   "metadata": {},
   "outputs": [],
   "source": []
  },
  {
   "cell_type": "code",
   "execution_count": null,
   "id": "fd8e9c7e-2288-4dd0-85a5-d3389dc04f61",
   "metadata": {},
   "outputs": [],
   "source": []
  },
  {
   "cell_type": "code",
   "execution_count": 56,
   "id": "9af54da4-fa53-4336-9ff3-647e6822ba85",
   "metadata": {},
   "outputs": [
    {
     "name": "stdout",
     "output_type": "stream",
     "text": [
      "Final Portfolio Value: INR 2900392.61\n",
      "IRR: 17.00%\n"
     ]
    }
   ],
   "source": [
    "import pandas as pd\n",
    "import numpy_financial as npf\n",
    "from datetime import datetime\n",
    "\n",
    "# Load the data\n",
    "file_path = r\"C:\\Users\\surve\\Downloads\\modi.csv\"  # Use the file path you provided\n",
    "\n",
    "# Read the CSV and inspect the first few rows\n",
    "data = pd.read_csv(file_path)\n",
    "\n",
    "# Manually set the column names\n",
    "data.columns = ['Date', 'Close', 'Rate', 'Unnamed: 3', 'Unnamed: 4', 'Unnamed: 5']\n",
    "\n",
    "# Convert the 'Date' column to datetime\n",
    "data['Date'] = pd.to_datetime(data['Date'], format='%d-%b-%y')\n",
    "\n",
    "# Set 'Date' as the index\n",
    "data.set_index('Date', inplace=True)\n",
    "\n",
    "# Check if 'Close' column is available\n",
    "if 'Close' not in data.columns:\n",
    "    print(\"Column 'Close' is not found in the data. Columns available:\", data.columns)\n",
    "else:\n",
    "    # Keep only the 'Close' column for the analysis\n",
    "    data = data[['Close']]\n",
    "\n",
    "    # Resample the data to get the closing value for each year (last close of each year)\n",
    "    data_yearly = data.resample('YE').last()\n",
    "\n",
    "    # Investment amount per year\n",
    "    investment_amount = 100000  # INR 1,00,000\n",
    "\n",
    "    # Create cash flows: Investing INR 1,00,000 at the start of each year\n",
    "    cash_flows = [-investment_amount] * len(data_yearly)\n",
    "\n",
    "    # Calculate the portfolio value for each year based on Close price\n",
    "    initial_close = data['Close'].iloc[0]  # Use the initial year's closing price as a reference\n",
    "\n",
    "    # Cumulative value of investments\n",
    "    portfolio_value = 0\n",
    "    for i, row in data_yearly.iterrows():\n",
    "        # Investment grows based on price change\n",
    "        investment_growth = investment_amount * (row['Close'] / initial_close)\n",
    "        portfolio_value += investment_growth\n",
    "        cash_flows.append(portfolio_value)\n",
    "\n",
    "    # Calculate IRR using numpy_financial.irr\n",
    "    irr_value = npf.irr(cash_flows)  # This returns the IRR\n",
    "\n",
    "    # Compute the final portfolio value\n",
    "    final_value = portfolio_value\n",
    "\n",
    "    # Output the results\n",
    "    print(f\"Final Portfolio Value: INR {final_value:.2f}\")\n",
    "    print(f\"IRR: {irr_value * 100:.2f}%\")\n"
   ]
  },
  {
   "cell_type": "code",
   "execution_count": 58,
   "id": "5ad3fc78-6390-42af-8681-90c3f39d927b",
   "metadata": {},
   "outputs": [],
   "source": [
    "import yfinance as yf\n",
    "\n",
    "# Download historical NIFTY50 data (^NSEI) at a daily interval\n",
    "nifty = yf.Ticker(\"^NSEI\")\n",
    "nifty_data = nifty.history(period=\"max\", interval=\"1d\")\n",
    "\n",
    "# Save the data to CSV\n",
    "nifty_data.to_csv(\"nifty50_data.csv\")\n"
   ]
  },
  {
   "cell_type": "code",
   "execution_count": 66,
   "id": "061ad150-60ed-43d5-b4c3-a35522f9300c",
   "metadata": {},
   "outputs": [
    {
     "name": "stdout",
     "output_type": "stream",
     "text": [
      "Full Date Range CAGR: 5.52%\n",
      "Full Date Range YoY Standard Deviation: 40.38%\n"
     ]
    }
   ],
   "source": [
    "import pandas as pd\n",
    "import numpy as np\n",
    "\n",
    "# Load the data\n",
    "file_path = r\"C:\\Users\\surve\\Downloads\\manmohan.csv\"\n",
    "data = pd.read_csv(file_path)\n",
    "\n",
    "# Clean column names by stripping any extra spaces\n",
    "data.columns = data.columns.str.strip()\n",
    "\n",
    "# Preprocess the data\n",
    "data[\"Date\"] = pd.to_datetime(data[\"Date\"], format=\"%d-%m-%Y\")  # Parse dates in DD-MM-YYYY format\n",
    "data = data[[\"Date\", \"Close\"]]  # Keep only Date and Close columns\n",
    "data = data.sort_values(\"Date\")  # Ensure chronological order\n",
    "\n",
    "# Set the Date as index for resampling\n",
    "data.set_index(\"Date\", inplace=True)\n",
    "\n",
    "# Resample the data to get the closing value for each year\n",
    "data_yearly = data.resample('YE').last()  # Get the last close price for each year\n",
    "\n",
    "# Calculate the year-on-year returns\n",
    "data_yearly['YoY Return'] = data_yearly['Close'].pct_change() * 100  # Percentage change\n",
    "\n",
    "# Remove the first NaN value created by pct_change\n",
    "data_yearly = data_yearly.dropna(subset=['YoY Return'])\n",
    "\n",
    "# Compute the standard deviation of YoY returns\n",
    "std_dev_yoy = data_yearly['YoY Return'].std()\n",
    "\n",
    "# Compute CAGR for the entire period\n",
    "start_value = data['Close'].iloc[0]  # First day's close price\n",
    "end_value = data['Close'].iloc[-1]  # Last day's close price\n",
    "n_days = (data.index[-1] - data.index[0]).days  # Total number of days\n",
    "n_years = n_days / 365  # Convert days to years\n",
    "\n",
    "# CAGR formula\n",
    "cagr_full_period = (end_value / start_value) ** (1 / n_years) - 1\n",
    "\n",
    "# Results\n",
    "print(f\"Full Date Range CAGR: {cagr_full_period * 100:.2f}%\")\n",
    "print(f\"Full Date Range YoY Standard Deviation: {std_dev_yoy:.2f}%\")\n"
   ]
  },
  {
   "cell_type": "code",
   "execution_count": null,
   "id": "022b4fd8-05f1-4806-8ce0-4ba7ebe1d261",
   "metadata": {},
   "outputs": [],
   "source": []
  }
 ],
 "metadata": {
  "kernelspec": {
   "display_name": "Python 3 (ipykernel)",
   "language": "python",
   "name": "python3"
  },
  "language_info": {
   "codemirror_mode": {
    "name": "ipython",
    "version": 3
   },
   "file_extension": ".py",
   "mimetype": "text/x-python",
   "name": "python",
   "nbconvert_exporter": "python",
   "pygments_lexer": "ipython3",
   "version": "3.12.7"
  }
 },
 "nbformat": 4,
 "nbformat_minor": 5
}
