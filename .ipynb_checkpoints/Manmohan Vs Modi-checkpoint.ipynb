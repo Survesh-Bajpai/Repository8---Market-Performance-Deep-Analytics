{
 "cells": [
  {
   "cell_type": "code",
   "execution_count": null,
   "id": "fc8d22f7-821d-4afc-be58-ee00af7e4e94",
   "metadata": {},
   "outputs": [],
   "source": []
  },
  {
   "cell_type": "code",
   "execution_count": null,
   "id": "c37882ba-10bf-4575-a571-d28c57ad93d0",
   "metadata": {},
   "outputs": [],
   "source": []
  },
  {
   "cell_type": "code",
   "execution_count": null,
   "id": "648052ea-a8c6-4267-b1be-a549d3704729",
   "metadata": {},
   "outputs": [],
   "source": []
  },
  {
   "cell_type": "code",
   "execution_count": null,
   "id": "e5f58a47-6b6a-48f0-a0bc-eeebec037e67",
   "metadata": {},
   "outputs": [],
   "source": []
  },
  {
   "cell_type": "code",
   "execution_count": null,
   "id": "d1635f60-0847-41c6-a6d8-0fbd0cec1e83",
   "metadata": {},
   "outputs": [],
   "source": []
  },
  {
   "cell_type": "code",
   "execution_count": null,
   "id": "12078cff-e4f7-4a69-8fba-207451de6c69",
   "metadata": {},
   "outputs": [],
   "source": []
  },
  {
   "cell_type": "code",
   "execution_count": 1,
   "id": "6e3ca2cc-ba3d-434e-82a7-bcb929f28ca3",
   "metadata": {},
   "outputs": [
    {
     "name": "stdout",
     "output_type": "stream",
     "text": [
      "Full Date Range CAGR: 12.80%\n",
      "Full Date Range YoY Standard Deviation: 11.65%\n"
     ]
    }
   ],
   "source": [
    "import pandas as pd\n",
    "import numpy as np\n",
    "\n",
    "# Load the data\n",
    "file_path = r\"C:\\Users\\surve\\Downloads\\modi.csv\"\n",
    "data = pd.read_csv(file_path)\n",
    "\n",
    "# Clean column names by stripping any extra spaces\n",
    "data.columns = data.columns.str.strip()\n",
    "\n",
    "# Preprocess the data\n",
    "data[\"Date\"] = pd.to_datetime(data[\"Date\"], format=\"%d-%b-%y\")  # Parse dates\n",
    "data = data[[\"Date\", \"Close\"]]  # Keep only Date and Close columns\n",
    "data = data.sort_values(\"Date\")  # Ensure chronological order\n",
    "\n",
    "# Set the Date as index for resampling\n",
    "data.set_index(\"Date\", inplace=True)\n",
    "\n",
    "# Resample the data to get the closing value for each year\n",
    "data_yearly = data.resample('YE').last()  # Get the last close price for each year\n",
    "\n",
    "# Calculate the year-on-year returns\n",
    "data_yearly['YoY Return'] = data_yearly['Close'].pct_change() * 100  # Percentage change\n",
    "\n",
    "# Remove the first NaN value created by pct_change\n",
    "data_yearly = data_yearly.dropna(subset=['YoY Return'])\n",
    "\n",
    "# Compute the standard deviation of YoY returns\n",
    "std_dev_yoy = data_yearly['YoY Return'].std()\n",
    "\n",
    "# Compute CAGR for the entire period\n",
    "start_value = data['Close'].iloc[0]  # First day's close price\n",
    "end_value = data['Close'].iloc[-1]  # Last day's close price\n",
    "n_days = (data.index[-1] - data.index[0]).days  # Total number of days\n",
    "n_years = n_days / 365  # Convert days to years\n",
    "\n",
    "# CAGR formula\n",
    "cagr_full_period = (end_value / start_value) ** (1 / n_years) - 1\n",
    "\n",
    "# Results\n",
    "print(f\"Full Date Range CAGR: {cagr_full_period * 100:.2f}%\")\n",
    "print(f\"Full Date Range YoY Standard Deviation: {std_dev_yoy:.2f}%\")\n"
   ]
  },
  {
   "cell_type": "code",
   "execution_count": 2,
   "id": "54396258-8bd4-4812-833a-6e812301688c",
   "metadata": {},
   "outputs": [
    {
     "ename": "AttributeError",
     "evalue": "module 'numpy_financial' has no attribute 'xirr'",
     "output_type": "error",
     "traceback": [
      "\u001b[1;31m---------------------------------------------------------------------------\u001b[0m",
      "\u001b[1;31mAttributeError\u001b[0m                            Traceback (most recent call last)",
      "Cell \u001b[1;32mIn[2], line 44\u001b[0m\n\u001b[0;32m     41\u001b[0m     dates\u001b[38;5;241m.\u001b[39mappend(i)\n\u001b[0;32m     43\u001b[0m \u001b[38;5;66;03m# Compute XIRR using numpy_financial\u001b[39;00m\n\u001b[1;32m---> 44\u001b[0m xirr_value \u001b[38;5;241m=\u001b[39m npf\u001b[38;5;241m.\u001b[39mxirr(cash_flows, dates)  \u001b[38;5;66;03m# This returns the IRR\u001b[39;00m\n\u001b[0;32m     46\u001b[0m \u001b[38;5;66;03m# Compute the final portfolio value (assuming final value at last date)\u001b[39;00m\n\u001b[0;32m     47\u001b[0m final_value \u001b[38;5;241m=\u001b[39m cash_flows[\u001b[38;5;241m-\u001b[39m\u001b[38;5;241m1\u001b[39m]\n",
      "\u001b[1;31mAttributeError\u001b[0m: module 'numpy_financial' has no attribute 'xirr'"
     ]
    }
   ],
   "source": [
    "import pandas as pd\n",
    "import numpy as np\n",
    "from datetime import datetime\n",
    "import numpy_financial as npf  # Using numpy_financial for IRR calculation\n",
    "\n",
    "# Load the data\n",
    "file_path = r\"C:\\Users\\surve\\Downloads\\modi.csv\"\n",
    "data = pd.read_csv(file_path)\n",
    "\n",
    "# Clean column names by stripping any extra spaces\n",
    "data.columns = data.columns.str.strip()\n",
    "\n",
    "# Preprocess the data\n",
    "data[\"Date\"] = pd.to_datetime(data[\"Date\"], format=\"%d-%b-%y\")  # Parse dates\n",
    "data = data[[\"Date\", \"Close\"]]  # Keep only Date and Close columns\n",
    "data = data.sort_values(\"Date\")  # Ensure chronological order\n",
    "\n",
    "# Set the Date as index for resampling\n",
    "data.set_index(\"Date\", inplace=True)\n",
    "\n",
    "# Resample the data to get the closing value for each year\n",
    "data_yearly = data.resample('YE').last()  # Get the last close price for each year\n",
    "\n",
    "# Investment amount per year\n",
    "investment_amount = 100000  # INR 1,00,000\n",
    "\n",
    "# Create cash flows: Investing INR 1,00,000 at the start of each year\n",
    "cash_flows = []\n",
    "dates = []\n",
    "\n",
    "for i, row in data_yearly.iterrows():\n",
    "    # Cash flow is negative (outflow) for the investment at the start of the year\n",
    "    cash_flows.append(-investment_amount)\n",
    "    dates.append(i)\n",
    "\n",
    "# Portfolio value at the end of each year (closing value of the NIFTY ETF)\n",
    "for i, row in data_yearly.iterrows():\n",
    "    # Cash flow is positive (inflow) for the portfolio value at the end of the year\n",
    "    portfolio_value = investment_amount * (row['Close'] / data['Close'].iloc[0])  # Based on initial investment at the start\n",
    "    cash_flows.append(portfolio_value)\n",
    "    dates.append(i)\n",
    "\n",
    "# Compute XIRR using numpy_financial\n",
    "xirr_value = npf.xirr(cash_flows, dates)  # This returns the IRR\n",
    "\n",
    "# Compute the final portfolio value (assuming final value at last date)\n",
    "final_value = cash_flows[-1]\n",
    "\n",
    "# Output the results\n",
    "print(f\"Final Portfolio Value: INR {final_value:.2f}\")\n",
    "print(f\"XIRR/IRR: {xirr_value * 100:.2f}%\")\n"
   ]
  },
  {
   "cell_type": "code",
   "execution_count": null,
   "id": "fd8e9c7e-2288-4dd0-85a5-d3389dc04f61",
   "metadata": {},
   "outputs": [],
   "source": []
  },
  {
   "cell_type": "code",
   "execution_count": null,
   "id": "9af54da4-fa53-4336-9ff3-647e6822ba85",
   "metadata": {},
   "outputs": [],
   "source": []
  },
  {
   "cell_type": "code",
   "execution_count": null,
   "id": "5ad3fc78-6390-42af-8681-90c3f39d927b",
   "metadata": {},
   "outputs": [],
   "source": []
  }
 ],
 "metadata": {
  "kernelspec": {
   "display_name": "Python 3 (ipykernel)",
   "language": "python",
   "name": "python3"
  },
  "language_info": {
   "codemirror_mode": {
    "name": "ipython",
    "version": 3
   },
   "file_extension": ".py",
   "mimetype": "text/x-python",
   "name": "python",
   "nbconvert_exporter": "python",
   "pygments_lexer": "ipython3",
   "version": "3.12.7"
  }
 },
 "nbformat": 4,
 "nbformat_minor": 5
}
